{
 "cells": [
  {
   "cell_type": "markdown",
   "id": "862f5c24-824e-4100-8410-dd43f045d6e0",
   "metadata": {},
   "source": [
    "### Setup\n",
    "\n",
    "1. Make a copy of `../.env.example` to `../.env` and fill the `OPENAI_API_KEY` and `CHAINLIT_API_KEY` environment variables.\n",
    "2. This demo assumes that chainlit-cloud is running locally.\n",
    "3. Run the cells to install the dependencies and the local sdk package."
   ]
  },
  {
   "cell_type": "code",
   "execution_count": null,
   "id": "c468a8c9-0197-437a-b1af-9e9816cb6d33",
   "metadata": {},
   "outputs": [],
   "source": [
    "pip install -r ../requirements.txt"
   ]
  },
  {
   "cell_type": "code",
   "execution_count": null,
   "id": "1a5a8be8-2c72-4f09-8ab4-578dfe25829f",
   "metadata": {},
   "outputs": [],
   "source": [
    "pip install -e .."
   ]
  },
  {
   "cell_type": "markdown",
   "id": "32ba337e-7db9-4810-ac7c-dd6532361f31",
   "metadata": {},
   "source": [
    "### Example"
   ]
  },
  {
   "cell_type": "code",
   "execution_count": null,
   "id": "04432a3b-22c6-4366-9521-7da36abd7106",
   "metadata": {},
   "outputs": [],
   "source": [
    "import asyncio\n",
    "import json\n",
    "import uuid\n",
    "\n",
    "from chainlit_sdk import Chainlit\n",
    "from chainlit_sdk.observability_agent import OperatorRole\n",
    "from dotenv import load_dotenv\n",
    "from openai import OpenAI\n",
    "\n",
    "load_dotenv()\n",
    "\n",
    "client = OpenAI()\n",
    "\n",
    "sdk = Chainlit(batch_size=2)\n",
    "sdk.instrument_openai()"
   ]
  },
  {
   "cell_type": "code",
   "execution_count": null,
   "id": "484b6122-4e26-4d83-ae7a-6dfed9b011b3",
   "metadata": {},
   "outputs": [],
   "source": [
    "# Start a conversation\n",
    "\n",
    "thread_id = uuid.uuid4()\n",
    "\n",
    "\n",
    "@sdk.observer.message(thread_id=thread_id)\n",
    "def send_message(text):\n",
    "    print(text)\n",
    "    step = sdk.observer.get_current_step()\n",
    "    step.output = text\n",
    "    step.operatorRole = OperatorRole.ASSISTANT\n",
    "\n",
    "\n",
    "@sdk.observer.run(thread_id=thread_id)\n",
    "def get_completion(input):\n",
    "    completion = client.chat.completions.create(\n",
    "        model=\"gpt-3.5-turbo\",\n",
    "        messages=[\n",
    "            {\n",
    "                \"role\": \"system\",\n",
    "                \"content\": \"Tell an inspiring quote to the user, mentioning their name. Be extremely supportive while keeping it short. Write one sentence per line.\",\n",
    "            },\n",
    "            {\n",
    "                \"role\": \"assistant\",\n",
    "                \"content\": welcome_message,\n",
    "            },\n",
    "            {\n",
    "                \"role\": \"user\",\n",
    "                \"content\": text,\n",
    "            },\n",
    "        ],\n",
    "    )\n",
    "    return completion\n",
    "\n",
    "\n",
    "welcome_message = \"What's your name? \"\n",
    "with sdk.observer.step(type=\"message\", thread_id=thread_id) as step:\n",
    "    step.output = welcome_message\n",
    "    step.operatorRole = OperatorRole.SYSTEM\n",
    "\n",
    "text = input(welcome_message)\n",
    "\n",
    "with sdk.observer.step(type=\"message\", thread_id=thread_id) as step:\n",
    "    step.output = text\n",
    "    step.operatorRole = OperatorRole.USER\n",
    "    message = get_completion(text)\n",
    "    send_message(message.choices[0].message.content)"
   ]
  },
  {
   "cell_type": "code",
   "execution_count": null,
   "id": "11501351-474f-4fe0-bdbd-a3b8ee67caac",
   "metadata": {},
   "outputs": [],
   "source": [
    "sdk.wait_until_queue_empty() # wait for all msgs to be in the cloud instance"
   ]
  },
  {
   "cell_type": "code",
   "execution_count": null,
   "id": "a8dddc5a-47db-426a-806e-ccdec02c1b98",
   "metadata": {},
   "outputs": [],
   "source": [
    "# Get the thread\n",
    "\n",
    "print(\"\\nSearching for the thread\", thread_id, \"...\")\n",
    "steps = await sdk.api.get_thread(id=str(thread_id))\n",
    "\n",
    "thread = steps\n",
    "\n",
    "print(json.dumps(thread, indent=2))"
   ]
  }
 ],
 "metadata": {
  "kernelspec": {
   "display_name": "Python 3 (ipykernel)",
   "language": "python",
   "name": "python3"
  },
  "language_info": {
   "codemirror_mode": {
    "name": "ipython",
    "version": 3
   },
   "file_extension": ".py",
   "mimetype": "text/x-python",
   "name": "python",
   "nbconvert_exporter": "python",
   "pygments_lexer": "ipython3",
   "version": "3.11.5"
  }
 },
 "nbformat": 4,
 "nbformat_minor": 5
}
