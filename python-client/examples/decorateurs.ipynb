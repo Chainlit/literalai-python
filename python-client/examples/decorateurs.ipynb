{
 "cells": [
  {
   "cell_type": "markdown",
   "id": "862f5c24-824e-4100-8410-dd43f045d6e0",
   "metadata": {},
   "source": [
    "### Setup\n",
    "\n",
    "1. Make a copy of `../.env.example` to `../.env` and fill the `OPENAI_API_KEY` and `CHAINLIT_API_KEY` environment variables.\n",
    "2. This demo assumes that chainlit-cloud is running locally.\n",
    "3. Run the cells to install the dependencies and the local sdk package."
   ]
  },
  {
   "cell_type": "code",
   "execution_count": 1,
   "id": "c468a8c9-0197-437a-b1af-9e9816cb6d33",
   "metadata": {},
   "outputs": [
    {
     "name": "stdout",
     "output_type": "stream",
     "text": [
      "Requirement already satisfied: asyncio==3.4.3 in /usr/local/lib/python3.11/site-packages (from -r ../requirements.txt (line 1)) (3.4.3)\n",
      "Requirement already satisfied: packaging==23.2 in /usr/local/lib/python3.11/site-packages (from -r ../requirements.txt (line 2)) (23.2)\n",
      "Requirement already satisfied: httpx<0.25.0,>=0.23.0 in /usr/local/lib/python3.11/site-packages (from -r ../requirements.txt (line 3)) (0.24.1)\n",
      "Requirement already satisfied: certifi in /usr/local/lib/python3.11/site-packages (from httpx<0.25.0,>=0.23.0->-r ../requirements.txt (line 3)) (2023.7.22)\n",
      "Requirement already satisfied: httpcore<0.18.0,>=0.15.0 in /usr/local/lib/python3.11/site-packages (from httpx<0.25.0,>=0.23.0->-r ../requirements.txt (line 3)) (0.17.3)\n",
      "Requirement already satisfied: idna in /usr/local/lib/python3.11/site-packages (from httpx<0.25.0,>=0.23.0->-r ../requirements.txt (line 3)) (3.4)\n",
      "Requirement already satisfied: sniffio in /usr/local/lib/python3.11/site-packages (from httpx<0.25.0,>=0.23.0->-r ../requirements.txt (line 3)) (1.3.0)\n",
      "Requirement already satisfied: h11<0.15,>=0.13 in /usr/local/lib/python3.11/site-packages (from httpcore<0.18.0,>=0.15.0->httpx<0.25.0,>=0.23.0->-r ../requirements.txt (line 3)) (0.14.0)\n",
      "Requirement already satisfied: anyio<5.0,>=3.0 in /usr/local/lib/python3.11/site-packages (from httpcore<0.18.0,>=0.15.0->httpx<0.25.0,>=0.23.0->-r ../requirements.txt (line 3)) (3.7.1)\n",
      "\n",
      "\u001b[1m[\u001b[0m\u001b[34;49mnotice\u001b[0m\u001b[1;39;49m]\u001b[0m\u001b[39;49m A new release of pip is available: \u001b[0m\u001b[31;49m23.2.1\u001b[0m\u001b[39;49m -> \u001b[0m\u001b[32;49m23.3.1\u001b[0m\n",
      "\u001b[1m[\u001b[0m\u001b[34;49mnotice\u001b[0m\u001b[1;39;49m]\u001b[0m\u001b[39;49m To update, run: \u001b[0m\u001b[32;49mpython3.11 -m pip install --upgrade pip\u001b[0m\n",
      "Note: you may need to restart the kernel to use updated packages.\n"
     ]
    }
   ],
   "source": [
    "pip install -r ../requirements.txt"
   ]
  },
  {
   "cell_type": "code",
   "execution_count": 2,
   "id": "1a5a8be8-2c72-4f09-8ab4-578dfe25829f",
   "metadata": {},
   "outputs": [
    {
     "name": "stdout",
     "output_type": "stream",
     "text": [
      "Obtaining file:///Users/thibautpatel/github/chainlit-sdks/python-client\n",
      "  Preparing metadata (setup.py) ... \u001b[?25ldone\n",
      "\u001b[?25hInstalling collected packages: chainlit-sdk\n",
      "  Attempting uninstall: chainlit-sdk\n",
      "    Found existing installation: chainlit-sdk 0.1.0\n",
      "    Uninstalling chainlit-sdk-0.1.0:\n",
      "      Successfully uninstalled chainlit-sdk-0.1.0\n",
      "  Running setup.py develop for chainlit-sdk\n",
      "Successfully installed chainlit-sdk-0.1.0\n",
      "\n",
      "\u001b[1m[\u001b[0m\u001b[34;49mnotice\u001b[0m\u001b[1;39;49m]\u001b[0m\u001b[39;49m A new release of pip is available: \u001b[0m\u001b[31;49m23.2.1\u001b[0m\u001b[39;49m -> \u001b[0m\u001b[32;49m23.3.1\u001b[0m\n",
      "\u001b[1m[\u001b[0m\u001b[34;49mnotice\u001b[0m\u001b[1;39;49m]\u001b[0m\u001b[39;49m To update, run: \u001b[0m\u001b[32;49mpython3.11 -m pip install --upgrade pip\u001b[0m\n",
      "Note: you may need to restart the kernel to use updated packages.\n"
     ]
    }
   ],
   "source": [
    "pip install -e .."
   ]
  },
  {
   "cell_type": "markdown",
   "id": "32ba337e-7db9-4810-ac7c-dd6532361f31",
   "metadata": {},
   "source": [
    "### Example"
   ]
  },
  {
   "cell_type": "code",
   "execution_count": 3,
   "id": "04432a3b-22c6-4366-9521-7da36abd7106",
   "metadata": {},
   "outputs": [
    {
     "ename": "ImportError",
     "evalue": "cannot import name 'Chainlit' from partially initialized module 'chainlit_sdk.chainlit_sdk' (most likely due to a circular import) (/Users/thibautpatel/github/chainlit-sdks/python-client/chainlit_sdk/chainlit_sdk.py)",
     "output_type": "error",
     "traceback": [
      "\u001b[0;31m---------------------------------------------------------------------------\u001b[0m",
      "\u001b[0;31mImportError\u001b[0m                               Traceback (most recent call last)",
      "Cell \u001b[0;32mIn[3], line 5\u001b[0m\n\u001b[1;32m      2\u001b[0m \u001b[38;5;28;01mimport\u001b[39;00m \u001b[38;5;21;01mjson\u001b[39;00m\n\u001b[1;32m      3\u001b[0m \u001b[38;5;28;01mimport\u001b[39;00m \u001b[38;5;21;01muuid\u001b[39;00m\n\u001b[0;32m----> 5\u001b[0m \u001b[38;5;28;01mfrom\u001b[39;00m \u001b[38;5;21;01mchainlit_sdk\u001b[39;00m \u001b[38;5;28;01mimport\u001b[39;00m Chainlit\n\u001b[1;32m      6\u001b[0m \u001b[38;5;28;01mfrom\u001b[39;00m \u001b[38;5;21;01mchainlit_sdk\u001b[39;00m\u001b[38;5;21;01m.\u001b[39;00m\u001b[38;5;21;01mtypes\u001b[39;00m \u001b[38;5;28;01mimport\u001b[39;00m OperatorRole, StepType\n\u001b[1;32m      7\u001b[0m \u001b[38;5;28;01mfrom\u001b[39;00m \u001b[38;5;21;01mdotenv\u001b[39;00m \u001b[38;5;28;01mimport\u001b[39;00m load_dotenv\n",
      "File \u001b[0;32m~/github/chainlit-sdks/python-client/chainlit_sdk/__init__.py:1\u001b[0m\n\u001b[0;32m----> 1\u001b[0m \u001b[38;5;28;01mfrom\u001b[39;00m \u001b[38;5;21;01m.\u001b[39;00m\u001b[38;5;21;01mchainlit_sdk\u001b[39;00m \u001b[38;5;28;01mimport\u001b[39;00m Chainlit\n\u001b[1;32m      3\u001b[0m \u001b[38;5;28;01mfrom\u001b[39;00m \u001b[38;5;21;01m.\u001b[39;00m \u001b[38;5;28;01mimport\u001b[39;00m types\n",
      "File \u001b[0;32m~/github/chainlit-sdks/python-client/chainlit_sdk/chainlit_sdk.py:7\u001b[0m\n\u001b[1;32m      5\u001b[0m \u001b[38;5;28;01mfrom\u001b[39;00m \u001b[38;5;21;01m.\u001b[39;00m\u001b[38;5;21;01mcontext\u001b[39;00m \u001b[38;5;28;01mimport\u001b[39;00m active_steps_var\n\u001b[1;32m      6\u001b[0m \u001b[38;5;28;01mfrom\u001b[39;00m \u001b[38;5;21;01m.\u001b[39;00m\u001b[38;5;21;01mevent_processor\u001b[39;00m \u001b[38;5;28;01mimport\u001b[39;00m EventProcessor\n\u001b[0;32m----> 7\u001b[0m \u001b[38;5;28;01mfrom\u001b[39;00m \u001b[38;5;21;01m.\u001b[39;00m\u001b[38;5;21;01minstrumentation\u001b[39;00m\u001b[38;5;21;01m.\u001b[39;00m\u001b[38;5;21;01mopenai\u001b[39;00m \u001b[38;5;28;01mimport\u001b[39;00m instrument_openai\n\u001b[1;32m      8\u001b[0m \u001b[38;5;28;01mfrom\u001b[39;00m \u001b[38;5;21;01m.\u001b[39;00m\u001b[38;5;21;01mtypes\u001b[39;00m \u001b[38;5;28;01mimport\u001b[39;00m Step, StepType, StepContextManager\n\u001b[1;32m     11\u001b[0m \u001b[38;5;28;01mclass\u001b[39;00m \u001b[38;5;21;01mChainlit\u001b[39;00m:\n",
      "File \u001b[0;32m~/github/chainlit-sdks/python-client/chainlit_sdk/instrumentation/openai.py:9\u001b[0m\n\u001b[1;32m      3\u001b[0m \u001b[38;5;28;01mfrom\u001b[39;00m \u001b[38;5;21;01mimportlib\u001b[39;00m\u001b[38;5;21;01m.\u001b[39;00m\u001b[38;5;21;01mmetadata\u001b[39;00m \u001b[38;5;28;01mimport\u001b[39;00m version\n\u001b[1;32m      5\u001b[0m \u001b[38;5;28;01mfrom\u001b[39;00m \u001b[38;5;21;01m.\u001b[39;00m\u001b[38;5;21;01m.\u001b[39;00m\u001b[38;5;21;01mtypes\u001b[39;00m \u001b[38;5;28;01mimport\u001b[39;00m (\n\u001b[1;32m      6\u001b[0m     GenerationType,\n\u001b[1;32m      7\u001b[0m     StepType,\n\u001b[1;32m      8\u001b[0m )\n\u001b[0;32m----> 9\u001b[0m \u001b[38;5;28;01mfrom\u001b[39;00m \u001b[38;5;21;01m.\u001b[39;00m\u001b[38;5;21;01m.\u001b[39;00m\u001b[38;5;21;01mchainlit_sdk\u001b[39;00m \u001b[38;5;28;01mimport\u001b[39;00m Chainlit\n\u001b[1;32m     10\u001b[0m \u001b[38;5;28;01mfrom\u001b[39;00m \u001b[38;5;21;01m.\u001b[39;00m\u001b[38;5;21;01m.\u001b[39;00m\u001b[38;5;21;01mwrappers\u001b[39;00m \u001b[38;5;28;01mimport\u001b[39;00m async_wrapper, sync_wrapper\n\u001b[1;32m     11\u001b[0m \u001b[38;5;28;01mfrom\u001b[39;00m \u001b[38;5;21;01mpackaging\u001b[39;00m \u001b[38;5;28;01mimport\u001b[39;00m version \u001b[38;5;28;01mas\u001b[39;00m packaging_version\n",
      "\u001b[0;31mImportError\u001b[0m: cannot import name 'Chainlit' from partially initialized module 'chainlit_sdk.chainlit_sdk' (most likely due to a circular import) (/Users/thibautpatel/github/chainlit-sdks/python-client/chainlit_sdk/chainlit_sdk.py)"
     ]
    }
   ],
   "source": [
    "import asyncio\n",
    "import json\n",
    "import uuid\n",
    "\n",
    "from chainlit_sdk import Chainlit\n",
    "from chainlit_sdk.types import OperatorRole, StepType\n",
    "from dotenv import load_dotenv\n",
    "from openai import OpenAI\n",
    "\n",
    "load_dotenv()\n",
    "\n",
    "client = OpenAI()\n",
    "\n",
    "sdk = Chainlit(batch_size=2)\n",
    "sdk.instrument_openai()"
   ]
  },
  {
   "cell_type": "code",
   "execution_count": null,
   "id": "484b6122-4e26-4d83-ae7a-6dfed9b011b3",
   "metadata": {},
   "outputs": [],
   "source": [
    "# Start a conversation\n",
    "\n",
    "thread_id = uuid.uuid4()\n",
    "\n",
    "\n",
    "@sdk.message(thread_id=thread_id)\n",
    "def send_message(text):\n",
    "    print(text)\n",
    "    step = sdk.observer.get_current_step()\n",
    "    step.output = text\n",
    "    step.operatorRole = OperatorRole.ASSISTANT\n",
    "\n",
    "\n",
    "@sdk.run(thread_id=thread_id)\n",
    "def get_completion(input):\n",
    "    completion = client.chat.completions.create(\n",
    "        model=\"gpt-3.5-turbo\",\n",
    "        messages=[\n",
    "            {\n",
    "                \"role\": \"system\",\n",
    "                \"content\": \"Tell an inspiring quote to the user, mentioning their name. Be extremely supportive while keeping it short. Write one sentence per line.\",\n",
    "            },\n",
    "            {\n",
    "                \"role\": \"assistant\",\n",
    "                \"content\": welcome_message,\n",
    "            },\n",
    "            {\n",
    "                \"role\": \"user\",\n",
    "                \"content\": text,\n",
    "            },\n",
    "        ],\n",
    "    )\n",
    "    return completion\n",
    "\n",
    "\n",
    "welcome_message = \"What's your name? \"\n",
    "with sdk.step(type=StepType.MESSAGE, thread_id=thread_id) as step:\n",
    "    step.output = welcome_message\n",
    "    step.operatorRole = OperatorRole.SYSTEM\n",
    "\n",
    "text = input(welcome_message)\n",
    "\n",
    "with sdk.step(type=StepType.MESSAGE, thread_id=thread_id) as step:\n",
    "    step.output = text\n",
    "    step.operatorRole = OperatorRole.USER\n",
    "    message = get_completion(text)\n",
    "    send_message(message.choices[0].message.content)"
   ]
  },
  {
   "cell_type": "code",
   "execution_count": null,
   "id": "11501351-474f-4fe0-bdbd-a3b8ee67caac",
   "metadata": {},
   "outputs": [],
   "source": [
    "sdk.wait_until_queue_empty() # wait for all msgs to be in the cloud instance"
   ]
  },
  {
   "cell_type": "code",
   "execution_count": null,
   "id": "a8dddc5a-47db-426a-806e-ccdec02c1b98",
   "metadata": {},
   "outputs": [],
   "source": [
    "# Get the thread\n",
    "\n",
    "print(\"\\nSearching for the thread\", thread_id, \"...\")\n",
    "steps = await sdk.api.get_thread(id=str(thread_id))\n",
    "\n",
    "thread = steps\n",
    "\n",
    "print(json.dumps(thread, indent=2))"
   ]
  }
 ],
 "metadata": {
  "kernelspec": {
   "display_name": "Python 3 (ipykernel)",
   "language": "python",
   "name": "python3"
  },
  "language_info": {
   "codemirror_mode": {
    "name": "ipython",
    "version": 3
   },
   "file_extension": ".py",
   "mimetype": "text/x-python",
   "name": "python",
   "nbconvert_exporter": "python",
   "pygments_lexer": "ipython3",
   "version": "3.11.5"
  }
 },
 "nbformat": 4,
 "nbformat_minor": 5
}
