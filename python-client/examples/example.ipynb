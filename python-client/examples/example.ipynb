{
 "cells": [
  {
   "cell_type": "markdown",
   "id": "862f5c24-824e-4100-8410-dd43f045d6e0",
   "metadata": {},
   "source": [
    "### Setup\n",
    "\n",
    "1. Make a copy of `../.env.example` to `../.env` and fill the `OPENAI_API_KEY` and `SDK_API_KEY` environment variables.\n",
    "2. This demo assumes that chainlit-cloud is running locally.\n",
    "3. Run the cells to install the dependencies and the local sdk package."
   ]
  },
  {
   "cell_type": "code",
   "execution_count": 1,
   "id": "c468a8c9-0197-437a-b1af-9e9816cb6d33",
   "metadata": {},
   "outputs": [
    {
     "name": "stdout",
     "output_type": "stream",
     "text": [
      "Requirement already satisfied: asyncio==3.4.3 in /usr/local/lib/python3.11/site-packages (from -r ../requirements.txt (line 1)) (3.4.3)\n",
      "Requirement already satisfied: packaging==23.2 in /usr/local/lib/python3.11/site-packages (from -r ../requirements.txt (line 2)) (23.2)\n",
      "Requirement already satisfied: httpx==0.25.1 in /usr/local/lib/python3.11/site-packages (from -r ../requirements.txt (line 3)) (0.25.1)\n",
      "Requirement already satisfied: anyio in /usr/local/lib/python3.11/site-packages (from httpx==0.25.1->-r ../requirements.txt (line 3)) (3.7.1)\n",
      "Requirement already satisfied: certifi in /usr/local/lib/python3.11/site-packages (from httpx==0.25.1->-r ../requirements.txt (line 3)) (2023.7.22)\n",
      "Requirement already satisfied: httpcore in /usr/local/lib/python3.11/site-packages (from httpx==0.25.1->-r ../requirements.txt (line 3)) (1.0.2)\n",
      "Requirement already satisfied: idna in /usr/local/lib/python3.11/site-packages (from httpx==0.25.1->-r ../requirements.txt (line 3)) (3.4)\n",
      "Requirement already satisfied: sniffio in /usr/local/lib/python3.11/site-packages (from httpx==0.25.1->-r ../requirements.txt (line 3)) (1.3.0)\n",
      "Requirement already satisfied: h11<0.15,>=0.13 in /usr/local/lib/python3.11/site-packages (from httpcore->httpx==0.25.1->-r ../requirements.txt (line 3)) (0.14.0)\n",
      "\n",
      "\u001b[1m[\u001b[0m\u001b[34;49mnotice\u001b[0m\u001b[1;39;49m]\u001b[0m\u001b[39;49m A new release of pip is available: \u001b[0m\u001b[31;49m23.2.1\u001b[0m\u001b[39;49m -> \u001b[0m\u001b[32;49m23.3.1\u001b[0m\n",
      "\u001b[1m[\u001b[0m\u001b[34;49mnotice\u001b[0m\u001b[1;39;49m]\u001b[0m\u001b[39;49m To update, run: \u001b[0m\u001b[32;49mpython3.11 -m pip install --upgrade pip\u001b[0m\n",
      "Note: you may need to restart the kernel to use updated packages.\n"
     ]
    }
   ],
   "source": [
    "pip install -r ../requirements.txt"
   ]
  },
  {
   "cell_type": "code",
   "execution_count": 3,
   "id": "1a5a8be8-2c72-4f09-8ab4-578dfe25829f",
   "metadata": {},
   "outputs": [
    {
     "name": "stdout",
     "output_type": "stream",
     "text": [
      "Obtaining file:///Users/thibautpatel/github/chainlit-sdks/python-client\n",
      "  Preparing metadata (setup.py) ... \u001b[?25ldone\n",
      "\u001b[?25hInstalling collected packages: chainlit-sdk\n",
      "  Attempting uninstall: chainlit-sdk\n",
      "    Found existing installation: chainlit-sdk 0.1.0\n",
      "    Uninstalling chainlit-sdk-0.1.0:\n",
      "      Successfully uninstalled chainlit-sdk-0.1.0\n",
      "  Running setup.py develop for chainlit-sdk\n",
      "Successfully installed chainlit-sdk-0.1.0\n",
      "\n",
      "\u001b[1m[\u001b[0m\u001b[34;49mnotice\u001b[0m\u001b[1;39;49m]\u001b[0m\u001b[39;49m A new release of pip is available: \u001b[0m\u001b[31;49m23.2.1\u001b[0m\u001b[39;49m -> \u001b[0m\u001b[32;49m23.3.1\u001b[0m\n",
      "\u001b[1m[\u001b[0m\u001b[34;49mnotice\u001b[0m\u001b[1;39;49m]\u001b[0m\u001b[39;49m To update, run: \u001b[0m\u001b[32;49mpython3.11 -m pip install --upgrade pip\u001b[0m\n",
      "Note: you may need to restart the kernel to use updated packages.\n"
     ]
    }
   ],
   "source": [
    "pip install -e .."
   ]
  },
  {
   "cell_type": "markdown",
   "id": "32ba337e-7db9-4810-ac7c-dd6532361f31",
   "metadata": {},
   "source": [
    "### Example"
   ]
  },
  {
   "cell_type": "code",
   "execution_count": 6,
   "id": "04432a3b-22c6-4366-9521-7da36abd7106",
   "metadata": {},
   "outputs": [
    {
     "name": "stdout",
     "output_type": "stream",
     "text": [
      "Warning: ObservabilityAgent already initialized. Ignoring new processor.\n"
     ]
    }
   ],
   "source": [
    "import asyncio\n",
    "import json\n",
    "import uuid\n",
    "\n",
    "import chainlit_sdk\n",
    "from dotenv import load_dotenv\n",
    "from openai import OpenAI\n",
    "\n",
    "load_dotenv()\n",
    "\n",
    "client = OpenAI()\n",
    "\n",
    "sdk = chainlit_sdk.ChainlitSDK(batch_size=2)\n",
    "chainlit_sdk.instrument_openai()"
   ]
  },
  {
   "cell_type": "code",
   "execution_count": 7,
   "id": "484b6122-4e26-4d83-ae7a-6dfed9b011b3",
   "metadata": {},
   "outputs": [
    {
     "name": "stdin",
     "output_type": "stream",
     "text": [
      "What's your name?  thibaut\n"
     ]
    }
   ],
   "source": [
    "# Start a conversation\n",
    "\n",
    "thread_id = uuid.uuid4()\n",
    "\n",
    "welcome_message = \"What's your name? \"\n",
    "with sdk.observer.step(type=\"message\", thread_id=thread_id) as step:\n",
    "    step.set_parameter(\"content\", welcome_message)\n",
    "    step.set_parameter(\"role\", \"assistant\")\n",
    "\n",
    "text = input(welcome_message)"
   ]
  },
  {
   "cell_type": "code",
   "execution_count": 8,
   "id": "d1a3cc14-fd77-4af1-9954-f4fd5003a60e",
   "metadata": {},
   "outputs": [
    {
     "name": "stdout",
     "output_type": "stream",
     "text": [
      "\n",
      "Thibaut,  you are a beacon of strength and resilience, capable of overcoming any obstacle that comes your way. Keep shining and pursuing your dreams!\n"
     ]
    }
   ],
   "source": [
    "# reply with an openai completion\n",
    "\n",
    "with sdk.observer.step(type=\"message\", thread_id=thread_id) as step:\n",
    "    step.set_parameter(\"content\", text)\n",
    "    step.set_parameter(\"role\", \"user\")\n",
    "    with sdk.observer.step(type=\"run\", thread_id=thread_id) as step:\n",
    "        completion = client.chat.completions.create(\n",
    "            model=\"gpt-3.5-turbo\",\n",
    "            messages=[\n",
    "                {\n",
    "                    \"role\": \"system\",\n",
    "                    \"content\": \"Tell an inspiring quote to the user, mentioning their name. Be extremely supportive while keeping it short. Write one sentence per line.\",\n",
    "                },\n",
    "                {\n",
    "                    \"role\": \"assistant\",\n",
    "                    \"content\": welcome_message,\n",
    "                },\n",
    "                {\n",
    "                    \"role\": \"user\",\n",
    "                    \"content\": text,\n",
    "                },\n",
    "            ],\n",
    "        )\n",
    "        with sdk.observer.step(type=\"message\", thread_id=thread_id) as step:\n",
    "            print(\"\")\n",
    "            print(completion.choices[0].message.content)\n",
    "            step.set_parameter(\"content\", completion.choices[0].message.content)\n",
    "            step.set_parameter(\"role\", \"assistant\")\n"
   ]
  },
  {
   "cell_type": "code",
   "execution_count": 9,
   "id": "11501351-474f-4fe0-bdbd-a3b8ee67caac",
   "metadata": {},
   "outputs": [],
   "source": [
    "sdk.wait_until_queue_empty() # wait for all msgs to be in the cloud instance"
   ]
  },
  {
   "cell_type": "code",
   "execution_count": 10,
   "id": "a8dddc5a-47db-426a-806e-ccdec02c1b98",
   "metadata": {},
   "outputs": [
    {
     "name": "stdout",
     "output_type": "stream",
     "text": [
      "\n",
      "Searching for the thread 1bbbdddd-c440-4b8e-8b49-8628a7448a67 ...\n",
      "{\n",
      "  \"data\": {\n",
      "    \"thread\": {\n",
      "      \"id\": \"1bbbdddd-c440-4b8e-8b49-8628a7448a67\",\n",
      "      \"steps\": [\n",
      "        {\n",
      "          \"id\": \"88c1b447-7f24-4961-998e-5a92ab679479\",\n",
      "          \"parentId\": null,\n",
      "          \"startTime\": 1696895361,\n",
      "          \"endTime\": 1696895361,\n",
      "          \"type\": \"MESSAGE\",\n",
      "          \"input\": null,\n",
      "          \"output\": null,\n",
      "          \"metadata\": {},\n",
      "          \"tags\": [],\n",
      "          \"operatorName\": null,\n",
      "          \"operatorRole\": null,\n",
      "          \"generation\": null,\n",
      "          \"feedback\": null\n",
      "        },\n",
      "        {\n",
      "          \"id\": \"c0953b86-9d7c-43a1-a290-a9c3334bd8cb\",\n",
      "          \"parentId\": null,\n",
      "          \"startTime\": 1696895368,\n",
      "          \"endTime\": 1696895370,\n",
      "          \"type\": \"LLM\",\n",
      "          \"input\": null,\n",
      "          \"output\": null,\n",
      "          \"metadata\": {},\n",
      "          \"tags\": [],\n",
      "          \"operatorName\": null,\n",
      "          \"operatorRole\": null,\n",
      "          \"feedback\": null,\n",
      "          \"generation\": null\n",
      "        },\n",
      "        {\n",
      "          \"id\": \"c3ff02ff-0fe0-4e2c-9ff5-d03970306401\",\n",
      "          \"parentId\": null,\n",
      "          \"startTime\": 1696895368,\n",
      "          \"endTime\": 1696895370,\n",
      "          \"type\": \"LLM\",\n",
      "          \"input\": null,\n",
      "          \"output\": null,\n",
      "          \"metadata\": {},\n",
      "          \"tags\": [],\n",
      "          \"operatorName\": null,\n",
      "          \"operatorRole\": null,\n",
      "          \"feedback\": null,\n",
      "          \"generation\": null\n",
      "        },\n",
      "        {\n",
      "          \"id\": \"d3530223-7cf7-4b64-b853-78daad6163e5\",\n",
      "          \"parentId\": null,\n",
      "          \"startTime\": 1696895368,\n",
      "          \"endTime\": 1696895370,\n",
      "          \"type\": \"LLM\",\n",
      "          \"input\": null,\n",
      "          \"output\": null,\n",
      "          \"metadata\": {},\n",
      "          \"tags\": [],\n",
      "          \"operatorName\": null,\n",
      "          \"operatorRole\": null,\n",
      "          \"feedback\": null,\n",
      "          \"generation\": null\n",
      "        },\n",
      "        {\n",
      "          \"id\": \"13ebeb93-4f79-428c-a230-abccff08483d\",\n",
      "          \"parentId\": null,\n",
      "          \"startTime\": 1696895370,\n",
      "          \"endTime\": 1696895370,\n",
      "          \"type\": \"MESSAGE\",\n",
      "          \"input\": null,\n",
      "          \"output\": null,\n",
      "          \"metadata\": {},\n",
      "          \"tags\": [],\n",
      "          \"operatorName\": null,\n",
      "          \"operatorRole\": null,\n",
      "          \"feedback\": null,\n",
      "          \"generation\": null\n",
      "        },\n",
      "        {\n",
      "          \"id\": \"abbc36f4-44b6-465d-a5b5-aad41c98ef66\",\n",
      "          \"parentId\": null,\n",
      "          \"startTime\": 1696895368,\n",
      "          \"endTime\": 1696895370,\n",
      "          \"type\": \"RUN\",\n",
      "          \"input\": null,\n",
      "          \"output\": null,\n",
      "          \"metadata\": {},\n",
      "          \"tags\": [],\n",
      "          \"operatorName\": null,\n",
      "          \"operatorRole\": null,\n",
      "          \"feedback\": null,\n",
      "          \"generation\": null\n",
      "        },\n",
      "        {\n",
      "          \"id\": \"438a42e3-cef1-4530-ad07-7bb3039d3e96\",\n",
      "          \"parentId\": null,\n",
      "          \"startTime\": 1696895368,\n",
      "          \"endTime\": 1696895370,\n",
      "          \"type\": \"MESSAGE\",\n",
      "          \"input\": null,\n",
      "          \"output\": null,\n",
      "          \"metadata\": {},\n",
      "          \"tags\": [],\n",
      "          \"operatorName\": null,\n",
      "          \"operatorRole\": null,\n",
      "          \"feedback\": null,\n",
      "          \"generation\": null\n",
      "        }\n",
      "      ]\n",
      "    }\n",
      "  }\n",
      "}\n"
     ]
    }
   ],
   "source": [
    "# Get the thread\n",
    "\n",
    "print(\"\\nSearching for the thread\", thread_id, \"...\")\n",
    "steps = await sdk.api.get_thread(id=str(thread_id))\n",
    "\n",
    "thread = steps\n",
    "\n",
    "print(json.dumps(thread, indent=2))"
   ]
  }
 ],
 "metadata": {
  "kernelspec": {
   "display_name": "Python 3 (ipykernel)",
   "language": "python",
   "name": "python3"
  },
  "language_info": {
   "codemirror_mode": {
    "name": "ipython",
    "version": 3
   },
   "file_extension": ".py",
   "mimetype": "text/x-python",
   "name": "python",
   "nbconvert_exporter": "python",
   "pygments_lexer": "ipython3",
   "version": "3.11.5"
  }
 },
 "nbformat": 4,
 "nbformat_minor": 5
}
